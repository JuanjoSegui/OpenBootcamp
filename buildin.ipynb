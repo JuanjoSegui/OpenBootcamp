{
 "cells": [
  {
   "cell_type": "markdown",
   "metadata": {},
   "source": [
    "filter aplica la funcion solo en los datos que sean compatibles con la funcion"
   ]
  },
  {
   "cell_type": "code",
   "execution_count": 4,
   "metadata": {},
   "outputs": [
    {
     "ename": "TypeError",
     "evalue": "filter expected 2 arguments, got 1",
     "output_type": "error",
     "traceback": [
      "\u001b[0;31m---------------------------------------------------------------------------\u001b[0m",
      "\u001b[0;31mTypeError\u001b[0m                                 Traceback (most recent call last)",
      "\u001b[1;32m/Users/juanjoseseguiborja/Documents/Openbootcamp/Python básico/buildin.ipynb Cell 1'\u001b[0m in \u001b[0;36m<cell line: 9>\u001b[0;34m()\u001b[0m\n\u001b[1;32m      <a href='vscode-notebook-cell:/Users/juanjoseseguiborja/Documents/Openbootcamp/Python%20b%C3%A1sico/buildin.ipynb#ch0000000?line=4'>5</a>\u001b[0m         \u001b[39mreturn\u001b[39;00m \u001b[39mTrue\u001b[39;00m\n\u001b[1;32m      <a href='vscode-notebook-cell:/Users/juanjoseseguiborja/Documents/Openbootcamp/Python%20b%C3%A1sico/buildin.ipynb#ch0000000?line=6'>7</a>\u001b[0m     \u001b[39mreturn\u001b[39;00m \u001b[39mFalse\u001b[39;00m\n\u001b[0;32m----> <a href='vscode-notebook-cell:/Users/juanjoseseguiborja/Documents/Openbootcamp/Python%20b%C3%A1sico/buildin.ipynb#ch0000000?line=8'>9</a>\u001b[0m resultado \u001b[39m=\u001b[39m \u001b[39mfilter\u001b[39;49m(mifuncion)\n\u001b[1;32m     <a href='vscode-notebook-cell:/Users/juanjoseseguiborja/Documents/Openbootcamp/Python%20b%C3%A1sico/buildin.ipynb#ch0000000?line=9'>10</a>\u001b[0m \u001b[39mprint\u001b[39m(\u001b[39mlist\u001b[39m(resultado))\n",
      "\u001b[0;31mTypeError\u001b[0m: filter expected 2 arguments, got 1"
     ]
    }
   ],
   "source": [
    "numeros = [1,2,3,4,5,6,7,8,9,10]\n",
    "\n",
    "def mifuncion(x):\n",
    "    if x %2 == 0:\n",
    "        return True\n",
    "\n",
    "    return False\n",
    "\n",
    "resultado = filter(mifuncion)\n",
    "print(list(resultado))"
   ]
  },
  {
   "cell_type": "markdown",
   "metadata": {},
   "source": [
    "map aplica la funcion a todos los elementos de la lista"
   ]
  },
  {
   "cell_type": "code",
   "execution_count": 5,
   "metadata": {},
   "outputs": [
    {
     "name": "stdout",
     "output_type": "stream",
     "text": [
      "[1, 4, 9, 16, 25, 36, 49, 64, 81]\n"
     ]
    }
   ],
   "source": [
    "def cuadrado(x):\n",
    "    return x*x\n",
    "\n",
    "\n",
    "resultado = map(cuadrado, [1,2,3,4,5,6,7,8,9])\n",
    "print(list(resultado))"
   ]
  },
  {
   "cell_type": "markdown",
   "metadata": {},
   "source": [
    "con una lamda hacemos la funcion temporal sinnecesitar crear la funcion"
   ]
  },
  {
   "cell_type": "code",
   "execution_count": 6,
   "metadata": {},
   "outputs": [
    {
     "name": "stdout",
     "output_type": "stream",
     "text": [
      "[1, 4, 9, 16, 25, 36, 49, 64, 81]\n"
     ]
    }
   ],
   "source": [
    "resultado = map(lambda x: x * x, [1,2,3,4,5,6,7,8,9])\n",
    "print(list(resultado))"
   ]
  },
  {
   "cell_type": "markdown",
   "metadata": {},
   "source": [
    "reduce() reduce una lista hasta que queda un elemento"
   ]
  },
  {
   "cell_type": "code",
   "execution_count": 8,
   "metadata": {},
   "outputs": [
    {
     "name": "stdout",
     "output_type": "stream",
     "text": [
      "28\n"
     ]
    }
   ],
   "source": [
    "from functools import reduce\n",
    "\n",
    "def suma(a,b):\n",
    "    return a + b\n",
    "\n",
    "res= reduce(suma, [1,2,3,4,5,6,7])\n",
    "print(res)\n"
   ]
  },
  {
   "cell_type": "markdown",
   "metadata": {},
   "source": [
    "zip() asocia listas y crea tuplas a partir de estas"
   ]
  },
  {
   "cell_type": "code",
   "execution_count": 9,
   "metadata": {},
   "outputs": [
    {
     "name": "stdout",
     "output_type": "stream",
     "text": [
      "[('java', 15), ('python', 20), ('git', 10)]\n"
     ]
    }
   ],
   "source": [
    "cursos = ['java','python','git']\n",
    "asistentes = [15,20,10]\n",
    "demo = zip(cursos,asistentes)\n",
    "print(list(demo))"
   ]
  },
  {
   "cell_type": "markdown",
   "metadata": {},
   "source": [
    "all devuelve True si todos son correctos y eny devuelve True si UNO es correcto"
   ]
  },
  {
   "cell_type": "code",
   "execution_count": 10,
   "metadata": {},
   "outputs": [
    {
     "name": "stdout",
     "output_type": "stream",
     "text": [
      "False\n",
      "True\n"
     ]
    }
   ],
   "source": [
    "listaA = [1==1, 1==2, 2==2]\n",
    "resALL = all(listaA)\n",
    "resANY = any(listaA)\n",
    "print(resALL)\n",
    "print(resANY)"
   ]
  },
  {
   "cell_type": "markdown",
   "metadata": {},
   "source": [
    "round() sirve para redondear "
   ]
  },
  {
   "cell_type": "code",
   "execution_count": 11,
   "metadata": {},
   "outputs": [
    {
     "name": "stdout",
     "output_type": "stream",
     "text": [
      "6\n"
     ]
    }
   ],
   "source": [
    "a = 5.6\n",
    "print(round(a))"
   ]
  },
  {
   "cell_type": "markdown",
   "metadata": {},
   "source": [
    "input() pregunta para que se incluyan datos por consola"
   ]
  },
  {
   "cell_type": "code",
   "execution_count": 13,
   "metadata": {},
   "outputs": [
    {
     "name": "stdout",
     "output_type": "stream",
     "text": [
      "juanjo uio\n"
     ]
    }
   ],
   "source": [
    "user = input(\"username: \")\n",
    "passw = input(\"password: \")\n",
    "\n",
    "print(user, passw)"
   ]
  },
  {
   "cell_type": "markdown",
   "metadata": {},
   "source": [
    "Con getpass hacemos que no se vea la contraseña"
   ]
  },
  {
   "cell_type": "code",
   "execution_count": 14,
   "metadata": {},
   "outputs": [
    {
     "name": "stdout",
     "output_type": "stream",
     "text": [
      "jj hh\n"
     ]
    }
   ],
   "source": [
    "from getpass import getpass\n",
    "user = input(\"username: \")\n",
    "passw = getpass(\"password: \")\n",
    "\n",
    "print(user, passw)"
   ]
  },
  {
   "cell_type": "markdown",
   "metadata": {},
   "source": []
  },
  {
   "cell_type": "code",
   "execution_count": null,
   "metadata": {},
   "outputs": [],
   "source": []
  }
 ],
 "metadata": {
  "interpreter": {
   "hash": "31f2aee4e71d21fbe5cf8b01ff0e069b9275f58929596ceb00d14d90e3e16cd6"
  },
  "kernelspec": {
   "display_name": "Python 3.8.9 64-bit",
   "language": "python",
   "name": "python3"
  },
  "language_info": {
   "codemirror_mode": {
    "name": "ipython",
    "version": 3
   },
   "file_extension": ".py",
   "mimetype": "text/x-python",
   "name": "python",
   "nbconvert_exporter": "python",
   "pygments_lexer": "ipython3",
   "version": "3.8.9"
  },
  "orig_nbformat": 4
 },
 "nbformat": 4,
 "nbformat_minor": 2
}
